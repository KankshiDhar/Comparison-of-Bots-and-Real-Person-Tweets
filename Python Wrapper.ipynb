{
 "cells": [
  {
   "cell_type": "code",
   "execution_count": 264,
   "metadata": {},
   "outputs": [],
   "source": [
    "from TwitterAPI import TwitterAPI, TwitterOAuth, TwitterPager\n",
    "from pprint import pprint"
   ]
  },
  {
   "cell_type": "code",
   "execution_count": 265,
   "metadata": {},
   "outputs": [],
   "source": [
    "consumerkey = \"iUc3mwEAXcEhY3U95XSA8UUmA\"\n",
    "consumersecret = \"cGS6WYsRJJ9L5ZS7OV7NLRuWml7ySpH8u7iLYt01kG9BHq27pT\"\n",
    "accesskey = \"2522573436-jAncp2bA7sEvDQ0RVFIaITj8BLliDl92d5REqEc\"\n",
    "accesssecret = \"1fzDrR3J7BB5DZ9zBumLJFowyiL5f4ic4KBAObaLCf9L5\""
   ]
  },
  {
   "cell_type": "code",
   "execution_count": 266,
   "metadata": {},
   "outputs": [],
   "source": [
    "api = TwitterAPI(consumerkey,consumersecret, accesskey, accesssecret)"
   ]
  },
  {
   "cell_type": "code",
   "execution_count": 291,
   "metadata": {},
   "outputs": [
    {
     "name": "stdout",
     "output_type": "stream",
     "text": [
      "('.@astrokarenn says:�Looks pack.  #HaceXpase #sulibucaras, Rassuding to te '\n",
      " 'day and of Earth. Allone to the tomato &amp;amp; @Astro_Doug: Wat th')\n",
      "('.@astrokarenn says:#strondurations to the looking the to start to the launch '\n",
      " 'to the launch of the looking the #simplejoysonearth @Astro_D')\n",
      "('.@astrokarenn says:� @NASA on the #simplejoysonearth @Astro_Doug: I was the '\n",
      " 'watcher a took the start call of the #ISS that we to the laun')\n",
      "('.@astrokarenn says:� @Astro_Doug: @Astro_Doug @Astro_Doug: @Astro_Doug: I '\n",
      " 'took the start to the moon the #samazur of #ISS that watch the l')\n",
      "('.@astrokarenn says:� @Astro_Doug: I was to the launch of the learth on the '\n",
      " 'loud for my from memore in the pacture that procest of #ISS to')\n",
      "('.@astrokarenn says:�bous in the see in the have the #spacewalk &amp;amp; '\n",
      " '#Iradoration. @astro_luca  Internate beautiful beauth experial the b')\n",
      "('.@astrokarenn says:E@palenderesCorla we to the weet from more to reat from '\n",
      " '@space_Station @Astro_luca  Canadare @AstroRDovaston &amp;amp; can')\n",
      "('.@astrokarenn says:m.! @NASAderey: Breations lats on fun caito, Soyuz simor '\n",
      " 'fly 8/miss of my for a look from I wonlet &amp;amp; the #simplejoy')\n",
      "('.@astrokarenn says:mill to the #Day &amp;amp; @AstroKarenN and home of flow '\n",
      " 'the loons in Space Station in the right of from ISS the see first')\n",
      "('.@astrokarenn says:�VV/ @Astro_luta  5 storning notors about from one the '\n",
      " 'more expition to smort watch on the complate of mare to the look')\n",
      "('.@astrokarenn says:Condays on the more of #ISS that ame to mate the '\n",
      " '#spacesura to shate me in a pack the #SpaceX that we cland to be on th')\n",
      "('.@astrokarenn says:UMDoy Cooder famally to futing stat &amp;amp; North July '\n",
      " 'of in Space. Collecting the #SpaceX End Earth from May on this te')\n",
      "('.@astrokarenn says:�y Earth and read te lave Internbiturs on the Bay That '\n",
      " 'wark with a toon the verica it mome right. @ spronkickeOrt Happ')\n",
      "('.@astrokarenn says:&amp;amp; @AstroRaceasternates incometions to the past '\n",
      " 'for I to pace. Thanks enting day about the mado to the recull in ast')\n",
      "('.@astrokarenn says:�- @astro_luca allen has innigh love Pordan to this \"IVS '\n",
      " \"it's leoninged as se't but so of be the en ore the #astronuthe\")\n",
      "('.@astrokarenn says:ow mass. @NASA can a wart can all to start to mat wake '\n",
      " 'the entermaner a dor in the friends to the west in like of #Astr')\n",
      "('.@astrokarenn says:Vay and the lausch.  @astro_luca  Great the the today to '\n",
      " 'the from my to the worl to the launch to more a sues to the #')\n",
      "('.@astrokarenn says:�: @astro_reid: I scace bot the fainly evereded all meet '\n",
      " 'a one the tomagh more wellayo to vead to the morning harl ig')\n",
      "('.@astrokarenn says:� I view in the Huppy &amp;amp; Soyuz watched &amp;amp; '\n",
      " 'the stat from Burist on the I took the littures in @NASA today to be a')\n",
      "('.@astrokarenn says:Flote: Wert belite at flight of weet a tarked to to mane '\n",
      " 'to space. May suthern the #samare chatter, May.I was tonmere')\n"
     ]
    }
   ],
   "source": [
    "r = api.request('statuses/user_timeline', {'screen_name':'scimirrorbot'})\n",
    "btweets = []\n",
    "for item in r:\n",
    "    item['text']=item['text'].replace(\"\\n\",\"\")\n",
    "    btweets.append(item['text'])\n",
    "    pprint(item['text'])"
   ]
  },
  {
   "cell_type": "code",
   "execution_count": 292,
   "metadata": {},
   "outputs": [
    {
     "name": "stdout",
     "output_type": "stream",
     "text": [
      "('Awesome job on your first spacewalk, @Astro_Christina! We’re proud of all of '\n",
      " 'you - making it look easy! https://t.co/lnYlSw2EET')\n",
      "('RT @Space_Station: Of the 63 women who have ever flown in space, 37 of them '\n",
      " 'have spent time on board the International Space Station. In ho…')\n",
      "('RT @AstroAnnimal: Nothing has been cancelled or postponed. US EVA 53 to '\n",
      " 'upgrade @Space_Station power systems is on 29 March w/ @AstroHague…')\n",
      "('The boys basketball team of Henning, Minnesota, the Hornets, just won their '\n",
      " 'first state championship.  Ever.  Pictu… https://t.co/s6fwm2jqDs')\n",
      "('Multitasking! Watching @AstroAnnimal &amp; @AstroHague rock their first '\n",
      " 'spacewalk while watching my small hometown HS b… https://t.co/iEa2hpZMs3')\n",
      "('An inspiring story of the boys 🏀 team from my small hometown in MN, playing '\n",
      " 'in memory of a teammate &amp; friend. I fin… https://t.co/KUSieFNvJt')\n",
      "('We now have 3 of 8 🎱🎱🎱 from the astronaut class of 2013 in orbit around '\n",
      " 'Earth.  Congratulations @Astro_Christina &amp;… https://t.co/B4nV7rDGgl')\n",
      "('At 2:14 pm CDT, @AstroHague &amp; Alexey Ovchinin get another chance to get '\n",
      " 'to space (after their aborted launch last f… https://t.co/tLXiRivlPs')\n",
      "('@KristinFisher @HARRISFAULKNER @OutnumberedOT Great photo!  Your mom has '\n",
      " 'been an inspiration and an example for all… https://t.co/9TFlQcr8We')\n",
      "('RT @Astro_Doug: Congratulations to @SpaceX and @NASA on the successful '\n",
      " 'completion of Crew Dragon Demonstration-1 test flight!  It’s been a…')\n",
      "('Congratulations to @SpaceX on a beautiful splashdown of #CrewDragon!  It‘s '\n",
      " 'been fun watching this uncrewed test mis… https://t.co/BibTOnUMQ7')\n",
      "(\"This #WomensHistoryMonth2019, I would like to honor @NASA's first female \"\n",
      " 'astronauts, Kathryn Sullivan, Shannon Luci… https://t.co/VbaXOMJrRT')\n",
      "('A very profound photo of @SpaceX #CrewDragon during approach to '\n",
      " '@Space_Station captured by @AstroAnnimal.  Beautifu… https://t.co/7wbITFJaFk')\n",
      "('When I started my astronaut career, the International Space Station '\n",
      " 'consisted of just 3 modules. 1st crew launched… https://t.co/7jupzlLScP')\n",
      "('RT @Astro_Doug: It has been an exciting couple of days!  From a closeup look '\n",
      " 'at Crew Dragon prior to launch, to watching the SpaceX team op…')\n",
      "('@AstroAnnimal @Space_Station That’s a beautiful sight.  It’s wonderful to '\n",
      " 'see that hatchway cleared of stowage and ready for use once again!')\n",
      "('Congratulations to the @SpaceX and @NASA team on a successful launch of '\n",
      " '#CrewDragon!! I’m looking forward to watchi… https://t.co/7eCBFdLvjB')\n",
      "('On the eve of the maiden flight of @SpaceX Crew Dragon, may I suggest you '\n",
      " 'follow my favorite astronaut @Astro_Doug… https://t.co/JB5XYCJFYE')\n",
      "('I recently discovered some videos that I took onboard the International '\n",
      " 'Space Station during my stay there in 2013… https://t.co/M21qZCwOe6')\n",
      "('Jack requested a Devonian Period fossil dig cake for his ninth birthday.  '\n",
      " 'This is what I came up with!  Everything… https://t.co/bFuBi0rFaK')\n"
     ]
    }
   ],
   "source": [
    "r = api.request('statuses/user_timeline', {'screen_name':'AstroKarenN'})\n",
    "ptweets = []\n",
    "for item in r:\n",
    "    item['text']=item['text'].replace(\"\\n\",\"\")\n",
    "    ptweets.append(item['text'])\n",
    "    pprint(item['text'])\n",
    "    "
   ]
  },
  {
   "cell_type": "code",
   "execution_count": 293,
   "metadata": {},
   "outputs": [],
   "source": [
    "import numpy\n",
    "from sklearn.decomposition import LatentDirichletAllocation\n",
    "from sklearn.feature_extraction.text import CountVectorizer\n",
    "from sklearn.feature_extraction import text "
   ]
  },
  {
   "cell_type": "code",
   "execution_count": 299,
   "metadata": {},
   "outputs": [],
   "source": [
    "topicno = 5\n",
    "featureno = 100\n",
    "topwords = 10\n",
    "\n",
    "\n",
    "def applyLDA(data, topicno, featureno):\n",
    "    mystopwords= ['i', 'are', 'may', 'should', 'can', 'must', 'will', 'a', 'is', 'on', 'the', 'just', 'this', 'what', 'would', 'https', 'rt']\n",
    "    stopwords = text.ENGLISH_STOP_WORDS.union(mystopwords)\n",
    "    \n",
    "    tf_vectorizer = CountVectorizer(max_df=0.99, min_df=0.02, max_features=featureno, stop_words=stopwords)\n",
    "    tf = tf_vectorizer.fit_transform(data)\n",
    "    tf_feature_names = tf_vectorizer.get_feature_names()\n",
    "    \n",
    "    lda = LatentDirichletAllocation(n_components=topicno, max_iter=5, learning_method='online', learning_offset=50.,random_state=0).fit(tf)\n",
    "    \n",
    "    doc_topic = lda.transform(tf)\n",
    "    \n",
    "    return lda,tf_feature_names,doc_topic\n",
    "\n",
    "\n",
    "blda,b_feature_names,b_doc_topic = applyLDA(btweets,topicno,featureno)   \n",
    "plda,p_feature_names,p_doc_topic = applyLDA(ptweets,topicno,featureno)"
   ]
  },
  {
   "cell_type": "code",
   "execution_count": 300,
   "metadata": {},
   "outputs": [
    {
     "name": "stdout",
     "output_type": "stream",
     "text": [
      "Topic 0:\n",
      "astro_doug iss scace took start spacesura spacex cland pack shate\n",
      "\n",
      "Topic 1:\n",
      "amp stat cooder space day spacex past thanks pace end\n",
      "\n",
      "Topic 2:\n",
      "amp astro_doug ow pacture pack te wake tomato sulibucaras west\n",
      "\n",
      "Topic 3:\n",
      "amp astro_luca look soyuz space allen complate took watch spacewalk\n",
      "\n",
      "Topic 4:\n",
      "launch start looking simplejoysonearth tarked right read toon suthern weet\n",
      "\n",
      "Topic 0:\n",
      "amp watching astrohague congratulations came tlxirivlps spacewalk 14 birthday space\n",
      "\n",
      "Topic 1:\n",
      "space photo space_station shannon international profound playing board vbaxomjrrt crewdragon\n",
      "\n",
      "Topic 2:\n",
      "space_station astroannimal stowage use march systems beautiful postponed upgrade power\n",
      "\n",
      "Topic 3:\n",
      "dragon astro_doug crew look spacex team successful proud recently lnylsw2eet\n",
      "\n",
      "Topic 4:\n",
      "spacex astronaut crew team s6fwm2jqds dragon suggest watchi space launch\n",
      "\n"
     ]
    }
   ],
   "source": [
    "def display_topics(model,doc_topic, feature_names, no_top_words):\n",
    "    for topic_idx, topic in enumerate(model.components_):\n",
    "\n",
    "        \n",
    "        print(\"Topic %d:\" % (topic_idx))\n",
    "        \n",
    "        print(\" \".join([feature_names[i]\n",
    "                        for i in topic.argsort()[:-no_top_words - 1:-1]]))\n",
    "        print(\"\")\n",
    "display_topics(blda, b_doc_topic,b_feature_names, topwords)\n",
    "display_topics(plda, p_doc_topic,p_feature_names, topwords)\n"
   ]
  },
  {
   "cell_type": "code",
   "execution_count": 301,
   "metadata": {},
   "outputs": [],
   "source": [
    "from vaderSentiment.vaderSentiment import SentimentIntensityAnalyzer\n",
    "from scipy import stats"
   ]
  },
  {
   "cell_type": "code",
   "execution_count": 308,
   "metadata": {},
   "outputs": [
    {
     "name": "stdout",
     "output_type": "stream",
     "text": [
      ".@astrokarenn says:�Looks pack.  #HaceXpase #sulibucaras, Rassuding to te day and of Earth. Allone to the tomato &amp;amp; @Astro_Doug: Wat th {'neg': 0.0, 'neu': 1.0, 'pos': 0.0, 'compound': 0.0}\n",
      ".@astrokarenn says:#strondurations to the looking the to start to the launch to the launch of the looking the #simplejoysonearth @Astro_D {'neg': 0.0, 'neu': 1.0, 'pos': 0.0, 'compound': 0.0}\n",
      ".@astrokarenn says:� @NASA on the #simplejoysonearth @Astro_Doug: I was the watcher a took the start call of the #ISS that we to the laun {'neg': 0.0, 'neu': 1.0, 'pos': 0.0, 'compound': 0.0}\n",
      ".@astrokarenn says:� @Astro_Doug: @Astro_Doug @Astro_Doug: @Astro_Doug: I took the start to the moon the #samazur of #ISS that watch the l {'neg': 0.0, 'neu': 1.0, 'pos': 0.0, 'compound': 0.0}\n",
      ".@astrokarenn says:� @Astro_Doug: I was to the launch of the learth on the loud for my from memore in the pacture that procest of #ISS to {'neg': 0.0, 'neu': 1.0, 'pos': 0.0, 'compound': 0.0}\n",
      ".@astrokarenn says:�bous in the see in the have the #spacewalk &amp;amp; #Iradoration. @astro_luca  Internate beautiful beauth experial the b {'neg': 0.0, 'neu': 0.813, 'pos': 0.187, 'compound': 0.5994}\n",
      ".@astrokarenn says:E@palenderesCorla we to the weet from more to reat from @space_Station @Astro_luca  Canadare @AstroRDovaston &amp;amp; can {'neg': 0.0, 'neu': 1.0, 'pos': 0.0, 'compound': 0.0}\n",
      ".@astrokarenn says:m.! @NASAderey: Breations lats on fun caito, Soyuz simor fly 8/miss of my for a look from I wonlet &amp;amp; the #simplejoy {'neg': 0.0, 'neu': 0.848, 'pos': 0.152, 'compound': 0.5562}\n",
      ".@astrokarenn says:mill to the #Day &amp;amp; @AstroKarenN and home of flow the loons in Space Station in the right of from ISS the see first {'neg': 0.0, 'neu': 1.0, 'pos': 0.0, 'compound': 0.0}\n",
      ".@astrokarenn says:�VV/ @Astro_luta  5 storning notors about from one the more expition to smort watch on the complate of mare to the look {'neg': 0.0, 'neu': 1.0, 'pos': 0.0, 'compound': 0.0}\n",
      ".@astrokarenn says:Condays on the more of #ISS that ame to mate the #spacesura to shate me in a pack the #SpaceX that we cland to be on th {'neg': 0.0, 'neu': 1.0, 'pos': 0.0, 'compound': 0.0}\n",
      ".@astrokarenn says:UMDoy Cooder famally to futing stat &amp;amp; North July of in Space. Collecting the #SpaceX End Earth from May on this te {'neg': 0.0, 'neu': 1.0, 'pos': 0.0, 'compound': 0.0}\n",
      ".@astrokarenn says:�y Earth and read te lave Internbiturs on the Bay That wark with a toon the verica it mome right. @ spronkickeOrt Happ {'neg': 0.0, 'neu': 1.0, 'pos': 0.0, 'compound': 0.0}\n",
      ".@astrokarenn says:&amp;amp; @AstroRaceasternates incometions to the past for I to pace. Thanks enting day about the mado to the recull in ast {'neg': 0.0, 'neu': 0.873, 'pos': 0.127, 'compound': 0.4404}\n",
      ".@astrokarenn says:�- @astro_luca allen has innigh love Pordan to this \"IVS it's leoninged as se't but so of be the en ore the #astronuthe {'neg': 0.0, 'neu': 0.898, 'pos': 0.102, 'compound': 0.3818}\n",
      ".@astrokarenn says:ow mass. @NASA can a wart can all to start to mat wake the entermaner a dor in the friends to the west in like of #Astr {'neg': 0.0, 'neu': 0.811, 'pos': 0.189, 'compound': 0.6808}\n",
      ".@astrokarenn says:Vay and the lausch.  @astro_luca  Great the the today to the from my to the worl to the launch to more a sues to the # {'neg': 0.0, 'neu': 0.854, 'pos': 0.146, 'compound': 0.6249}\n",
      ".@astrokarenn says:�: @astro_reid: I scace bot the fainly evereded all meet a one the tomagh more wellayo to vead to the morning harl ig {'neg': 0.0, 'neu': 1.0, 'pos': 0.0, 'compound': 0.0}\n",
      ".@astrokarenn says:� I view in the Huppy &amp;amp; Soyuz watched &amp;amp; the stat from Burist on the I took the littures in @NASA today to be a {'neg': 0.0, 'neu': 1.0, 'pos': 0.0, 'compound': 0.0}\n",
      ".@astrokarenn says:Flote: Wert belite at flight of weet a tarked to to mane to space. May suthern the #samare chatter, May.I was tonmere {'neg': 0.0, 'neu': 1.0, 'pos': 0.0, 'compound': 0.0}\n"
     ]
    }
   ],
   "source": [
    "analyzer = SentimentIntensityAnalyzer()\n",
    "posb= []\n",
    "negb = []\n",
    "for text in btweets:\n",
    "    vs = analyzer.polarity_scores(text)\n",
    "    print(\"{:-<65} {}\".format(text, str(vs)))\n",
    "    posb.append(vs['pos'])\n",
    "    negb.append(vs['neg'])"
   ]
  },
  {
   "cell_type": "code",
   "execution_count": 309,
   "metadata": {},
   "outputs": [
    {
     "name": "stdout",
     "output_type": "stream",
     "text": [
      "Awesome job on your first spacewalk, @Astro_Christina! We’re proud of all of you - making it look easy! https://t.co/lnYlSw2EET {'neg': 0.0, 'neu': 0.584, 'pos': 0.416, 'compound': 0.893}\n",
      "RT @Space_Station: Of the 63 women who have ever flown in space, 37 of them have spent time on board the International Space Station. In ho… {'neg': 0.0, 'neu': 1.0, 'pos': 0.0, 'compound': 0.0}\n",
      "RT @AstroAnnimal: Nothing has been cancelled or postponed. US EVA 53 to upgrade @Space_Station power systems is on 29 March w/ @AstroHague… {'neg': 0.076, 'neu': 0.85, 'pos': 0.074, 'compound': -0.0155}\n",
      "The boys basketball team of Henning, Minnesota, the Hornets, just won their first state championship.  Ever.  Pictu… https://t.co/s6fwm2jqDs {'neg': 0.0, 'neu': 0.708, 'pos': 0.292, 'compound': 0.765}\n",
      "Multitasking! Watching @AstroAnnimal &amp; @AstroHague rock their first spacewalk while watching my small hometown HS b… https://t.co/iEa2hpZMs3 {'neg': 0.0, 'neu': 1.0, 'pos': 0.0, 'compound': 0.0}\n",
      "An inspiring story of the boys 🏀 team from my small hometown in MN, playing in memory of a teammate &amp; friend. I fin… https://t.co/KUSieFNvJt {'neg': 0.0, 'neu': 0.719, 'pos': 0.281, 'compound': 0.7783}\n",
      "We now have 3 of 8 🎱🎱🎱 from the astronaut class of 2013 in orbit around Earth.  Congratulations @Astro_Christina &amp;… https://t.co/B4nV7rDGgl {'neg': 0.0, 'neu': 0.822, 'pos': 0.178, 'compound': 0.5994}\n",
      "At 2:14 pm CDT, @AstroHague &amp; Alexey Ovchinin get another chance to get to space (after their aborted launch last f… https://t.co/tLXiRivlPs {'neg': 0.0, 'neu': 0.913, 'pos': 0.087, 'compound': 0.25}\n",
      "@KristinFisher @HARRISFAULKNER @OutnumberedOT Great photo!  Your mom has been an inspiration and an example for all… https://t.co/9TFlQcr8We {'neg': 0.0, 'neu': 0.658, 'pos': 0.342, 'compound': 0.8313}\n",
      "RT @Astro_Doug: Congratulations to @SpaceX and @NASA on the successful completion of Crew Dragon Demonstration-1 test flight!  It’s been a… {'neg': 0.0, 'neu': 0.693, 'pos': 0.307, 'compound': 0.8398}\n",
      "Congratulations to @SpaceX on a beautiful splashdown of #CrewDragon!  It‘s been fun watching this uncrewed test mis… https://t.co/BibTOnUMQ7 {'neg': 0.0, 'neu': 0.551, 'pos': 0.449, 'compound': 0.908}\n",
      "This #WomensHistoryMonth2019, I would like to honor @NASA's first female astronauts, Kathryn Sullivan, Shannon Luci… https://t.co/VbaXOMJrRT {'neg': 0.0, 'neu': 0.695, 'pos': 0.305, 'compound': 0.6908}\n",
      "A very profound photo of @SpaceX #CrewDragon during approach to @Space_Station captured by @AstroAnnimal.  Beautifu… https://t.co/7wbITFJaFk {'neg': 0.0, 'neu': 1.0, 'pos': 0.0, 'compound': 0.0}\n",
      "When I started my astronaut career, the International Space Station consisted of just 3 modules. 1st crew launched… https://t.co/7jupzlLScP {'neg': 0.0, 'neu': 1.0, 'pos': 0.0, 'compound': 0.0}\n",
      "RT @Astro_Doug: It has been an exciting couple of days!  From a closeup look at Crew Dragon prior to launch, to watching the SpaceX team op… {'neg': 0.0, 'neu': 0.873, 'pos': 0.127, 'compound': 0.5411}\n",
      "@AstroAnnimal @Space_Station That’s a beautiful sight.  It’s wonderful to see that hatchway cleared of stowage and ready for use once again! {'neg': 0.0, 'neu': 0.576, 'pos': 0.424, 'compound': 0.8955}\n",
      "Congratulations to the @SpaceX and @NASA team on a successful launch of #CrewDragon!! I’m looking forward to watchi… https://t.co/7eCBFdLvjB {'neg': 0.0, 'neu': 0.659, 'pos': 0.341, 'compound': 0.8513}\n",
      "On the eve of the maiden flight of @SpaceX Crew Dragon, may I suggest you follow my favorite astronaut @Astro_Doug… https://t.co/JB5XYCJFYE {'neg': 0.0, 'neu': 0.864, 'pos': 0.136, 'compound': 0.4588}\n",
      "I recently discovered some videos that I took onboard the International Space Station during my stay there in 2013… https://t.co/M21qZCwOe6 {'neg': 0.0, 'neu': 1.0, 'pos': 0.0, 'compound': 0.0}\n",
      "Jack requested a Devonian Period fossil dig cake for his ninth birthday.  This is what I came up with!  Everything… https://t.co/bFuBi0rFaK {'neg': 0.0, 'neu': 1.0, 'pos': 0.0, 'compound': 0.0}\n"
     ]
    }
   ],
   "source": [
    "posp= []\n",
    "negp = []\n",
    "for text in ptweets:\n",
    "    vs = analyzer.polarity_scores(text)\n",
    "    print(\"{:-<65} {}\".format(text, str(vs)))\n",
    "    posp.append(vs['pos'])\n",
    "    negp.append(vs['neg'])"
   ]
  },
  {
   "cell_type": "code",
   "execution_count": 310,
   "metadata": {},
   "outputs": [
    {
     "name": "stdout",
     "output_type": "stream",
     "text": [
      "For Bots\n",
      " Pearson's Correlation: (nan, 1.0)\n",
      "Sum of Positive Value : 0.9029999999999999\n",
      "Sum of Negative Value : 0.0\n",
      "For Real Users\n",
      " Pearson's Correlation: (-0.16338271805743368, 0.4912830385044731)\n",
      "Sum of Positive Value : 3.759000000000001\n",
      "Sum of Negative Value : 0.076\n"
     ]
    }
   ],
   "source": [
    "print(\"For Bots\\n\", \"Pearson's Correlation:\", stats.pearsonr(posb,negb))\n",
    "print(\"Sum of Positive Value :\" , sum(posb))\n",
    "print(\"Sum of Negative Value :\", sum(negb))\n",
    "print(\"For Real Users\\n\", \"Pearson's Correlation:\",  stats.pearsonr(posp,negp))\n",
    "print(\"Sum of Positive Value :\" , sum(posp))\n",
    "print(\"Sum of Negative Value :\" , sum(negp))"
   ]
  }
 ],
 "metadata": {
  "kernelspec": {
   "display_name": "Python 3",
   "language": "python",
   "name": "python3"
  },
  "language_info": {
   "codemirror_mode": {
    "name": "ipython",
    "version": 3
   },
   "file_extension": ".py",
   "mimetype": "text/x-python",
   "name": "python",
   "nbconvert_exporter": "python",
   "pygments_lexer": "ipython3",
   "version": "3.6.5"
  }
 },
 "nbformat": 4,
 "nbformat_minor": 2
}
